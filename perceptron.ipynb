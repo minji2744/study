{
 "cells": [
  {
   "cell_type": "code",
   "execution_count": 22,
   "id": "b6605e2b",
   "metadata": {},
   "outputs": [
    {
     "name": "stdout",
     "output_type": "stream",
     "text": [
      "AND(0,0): 0\n",
      "AND(0,1): 0\n",
      "AND(1,0): 0\n",
      "AND(1,1): 1\n"
     ]
    }
   ],
   "source": [
    "#AND 게이트\n",
    "def AND(x1, x2):\n",
    "    w1, w2, theta = 0.5, 0.5, 0.7\n",
    "    tmp = x1*w1 + x2*w2\n",
    "    if tmp <= theta:\n",
    "        return 0\n",
    "    elif tmp > theta:\n",
    "        return 1\n",
    "    \n",
    "for i in range(2):\n",
    "    for j in range(2):\n",
    "        x = AND(i, j)\n",
    "        print(\"AND({},{}):\".format(i, j),x)"
   ]
  },
  {
   "cell_type": "code",
   "execution_count": 23,
   "id": "45ce6f8a",
   "metadata": {},
   "outputs": [
    {
     "name": "stdout",
     "output_type": "stream",
     "text": [
      "AND(0,0): 0\n",
      "AND(0,1): 0\n",
      "AND(1,0): 0\n",
      "AND(1,1): 1\n"
     ]
    }
   ],
   "source": [
    "#AND 게이트 (가중치 식 수정)\n",
    "import numpy as np\n",
    "def AND(x1, x2):\n",
    "    x = np.array([x1, x2])\n",
    "    w = np.array([0.5,0.5])\n",
    "    b = -0.7\n",
    "    tmp = np.sum(w*x) + b\n",
    "    if tmp <= 0:\n",
    "        return 0\n",
    "    else:\n",
    "        return 1\n",
    "    \n",
    "for i in range(2):\n",
    "    for j in range(2):\n",
    "        x = AND(i, j)\n",
    "        print(\"AND({},{}):\".format(i, j),x)"
   ]
  },
  {
   "cell_type": "code",
   "execution_count": 24,
   "id": "2f3e5a3d",
   "metadata": {},
   "outputs": [
    {
     "name": "stdout",
     "output_type": "stream",
     "text": [
      "NAND(0,0): 1\n",
      "NAND(0,1): 1\n",
      "NAND(1,0): 1\n",
      "NAND(1,1): 0\n"
     ]
    }
   ],
   "source": [
    "#NAND 게이트\n",
    "def NAND(x1, x2):\n",
    "    x = np.array([x1, x2])\n",
    "    w = np.array([-0.5, -0.5])\n",
    "    b = 0.7\n",
    "    tmp = np.sum(w*x)+b\n",
    "    if tmp <= 0:\n",
    "        return 0\n",
    "    else:\n",
    "        return 1\n",
    "    \n",
    "for i in range(2):\n",
    "    for j in range(2):\n",
    "        x = NAND(i, j)\n",
    "        print(\"NAND({},{}):\".format(i, j),x)"
   ]
  },
  {
   "cell_type": "code",
   "execution_count": 25,
   "id": "57a8c335",
   "metadata": {},
   "outputs": [
    {
     "name": "stdout",
     "output_type": "stream",
     "text": [
      "OR(0,0): 0\n",
      "OR(0,1): 1\n",
      "OR(1,0): 1\n",
      "OR(1,1): 1\n"
     ]
    }
   ],
   "source": [
    "#OR 게이트\n",
    "def OR(x1, x2):\n",
    "    x = np.array([x1, x2])\n",
    "    w = np.array([0.5, 0.5])\n",
    "    b = -0.2\n",
    "    tmp = np.sum(w*x) + b\n",
    "    if tmp <= 0:\n",
    "        return 0\n",
    "    else: \n",
    "        return 1\n",
    "    \n",
    "for i in range(2):\n",
    "    for j in range(2):\n",
    "        x = OR(i, j)\n",
    "        print(\"OR({},{}):\".format(i, j),x)"
   ]
  },
  {
   "cell_type": "code",
   "execution_count": 27,
   "id": "d5fddd82",
   "metadata": {},
   "outputs": [
    {
     "name": "stdout",
     "output_type": "stream",
     "text": [
      "XOR(0,0): 0\n",
      "XOR(0,1): 1\n",
      "XOR(1,0): 1\n",
      "XOR(1,1): 0\n"
     ]
    }
   ],
   "source": [
    "#XOR(배타적 논리합) 게이트 --다층 퍼셉트론\n",
    "def XOR(x1, x2):\n",
    "    s1 = NAND(x1, x2)\n",
    "    s2 = OR(x1, x2)\n",
    "    return AND(s1, s2)\n",
    "    \n",
    "for i in range(2):\n",
    "    for j in range(2):\n",
    "        x = XOR(i, j)\n",
    "        print(\"XOR({},{}):\".format(i, j),x)"
   ]
  },
  {
   "cell_type": "code",
   "execution_count": null,
   "id": "64bec131",
   "metadata": {},
   "outputs": [],
   "source": []
  },
  {
   "cell_type": "code",
   "execution_count": null,
   "id": "f9bdc091",
   "metadata": {},
   "outputs": [],
   "source": []
  },
  {
   "cell_type": "code",
   "execution_count": null,
   "id": "c7f3d7a9",
   "metadata": {},
   "outputs": [],
   "source": []
  }
 ],
 "metadata": {
  "kernelspec": {
   "display_name": "Python 3",
   "language": "python",
   "name": "python3"
  },
  "language_info": {
   "codemirror_mode": {
    "name": "ipython",
    "version": 3
   },
   "file_extension": ".py",
   "mimetype": "text/x-python",
   "name": "python",
   "nbconvert_exporter": "python",
   "pygments_lexer": "ipython3",
   "version": "3.9.1"
  }
 },
 "nbformat": 4,
 "nbformat_minor": 5
}
